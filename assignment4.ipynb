{
 "cells": [
  {
   "cell_type": "code",
   "execution_count": 31,
   "id": "14c5b5f1",
   "metadata": {},
   "outputs": [],
   "source": [
    "from tensorflow.keras.models import Sequential\n",
    "from tensorflow.keras.layers import Dense\n",
    "from tensorflow.keras.layers import Convolution2D\n",
    "from tensorflow.keras.layers import MaxPooling2D\n",
    "from tensorflow.keras.layers import Flatten\n",
    "from tensorflow.keras.preprocessing.image import ImageDataGenerator"
   ]
  },
  {
   "cell_type": "code",
   "execution_count": 32,
   "id": "07b8e26a",
   "metadata": {},
   "outputs": [],
   "source": [
    "train_datagen=ImageDataGenerator(rescale=1./255,shear_range=0.2,zoom_range=0.2)\n",
    "test_datagen=ImageDataGenerator(rescale=1./255)"
   ]
  },
  {
   "cell_type": "code",
   "execution_count": 33,
   "id": "c0b3098b",
   "metadata": {},
   "outputs": [
    {
     "name": "stdout",
     "output_type": "stream",
     "text": [
      "Found 2122 images belonging to 5 classes.\n",
      "Found 50 images belonging to 5 classes.\n"
     ]
    }
   ],
   "source": [
    "x_train=train_datagen.flow_from_directory(r'E:\\ibm\\flowers\\trainset',target_size=(64,64),batch_size=32,class_mode='categorical')\n",
    "x_test=train_datagen.flow_from_directory(r'E:\\ibm\\flowers\\testset',target_size=(64,64),batch_size=32,class_mode='categorical')"
   ]
  },
  {
   "cell_type": "code",
   "execution_count": 34,
   "id": "8e0df126",
   "metadata": {},
   "outputs": [
    {
     "data": {
      "text/plain": [
       "{'daisy': 0, 'dandelion': 1, 'rose': 2, 'sunflower': 3, 'tulip': 4}"
      ]
     },
     "execution_count": 34,
     "metadata": {},
     "output_type": "execute_result"
    }
   ],
   "source": [
    "x_train.class_indices"
   ]
  },
  {
   "cell_type": "code",
   "execution_count": 35,
   "id": "405a66c3",
   "metadata": {},
   "outputs": [],
   "source": [
    "model=Sequential()"
   ]
  },
  {
   "cell_type": "code",
   "execution_count": 36,
   "id": "09ff859e",
   "metadata": {},
   "outputs": [],
   "source": [
    "model.add(Convolution2D((32),(3,3),input_shape=(64,64,3),activation='relu'))"
   ]
  },
  {
   "cell_type": "code",
   "execution_count": 38,
   "id": "25ea7afc",
   "metadata": {},
   "outputs": [],
   "source": [
    "model.add(MaxPooling2D(pool_size=(2,2)))"
   ]
  },
  {
   "cell_type": "code",
   "execution_count": 39,
   "id": "098e4482",
   "metadata": {},
   "outputs": [],
   "source": [
    "model.add(Flatten())"
   ]
  },
  {
   "cell_type": "code",
   "execution_count": 40,
   "id": "b6ca8a87",
   "metadata": {},
   "outputs": [],
   "source": [
    "model.add(Dense(units=128,kernel_initializer='random_uniform',activation='relu'))"
   ]
  },
  {
   "cell_type": "code",
   "execution_count": 41,
   "id": "bc850a8c",
   "metadata": {},
   "outputs": [],
   "source": [
    "model.add(Dense(units=128,kernel_initializer='random_uniform',activation='relu'))"
   ]
  },
  {
   "cell_type": "code",
   "execution_count": 42,
   "id": "256f3b7f",
   "metadata": {},
   "outputs": [],
   "source": [
    "model.add(Dense(units=5,kernel_initializer='random_uniform',activation='softmax'))"
   ]
  },
  {
   "cell_type": "code",
   "execution_count": 43,
   "id": "82655426",
   "metadata": {},
   "outputs": [],
   "source": [
    "model.compile(loss='categorical_crossentropy',optimizer='adam',metrics=['accuracy'])"
   ]
  },
  {
   "cell_type": "code",
   "execution_count": 44,
   "id": "d7d6ab0b",
   "metadata": {},
   "outputs": [
    {
     "name": "stderr",
     "output_type": "stream",
     "text": [
      "C:\\Users\\Master\\AppData\\Local\\Temp\\ipykernel_7456\\1710693504.py:1: UserWarning: `Model.fit_generator` is deprecated and will be removed in a future version. Please use `Model.fit`, which supports generators.\n",
      "  model.fit_generator(x_train,steps_per_epoch=46,epochs=25,validation_data=x_test,validation_steps=20)\n"
     ]
    },
    {
     "name": "stdout",
     "output_type": "stream",
     "text": [
      "Epoch 1/25\n",
      "46/46 [==============================] - ETA: 0s - loss: 1.4758 - accuracy: 0.3560WARNING:tensorflow:Your input ran out of data; interrupting training. Make sure that your dataset or generator can generate at least `steps_per_epoch * epochs` batches (in this case, 20 batches). You may need to use the repeat() function when building your dataset.\n",
      "46/46 [==============================] - 24s 513ms/step - loss: 1.4758 - accuracy: 0.3560 - val_loss: 1.1417 - val_accuracy: 0.5200\n",
      "Epoch 2/25\n",
      "46/46 [==============================] - 11s 237ms/step - loss: 1.2035 - accuracy: 0.4755\n",
      "Epoch 3/25\n",
      "46/46 [==============================] - 8s 173ms/step - loss: 1.1335 - accuracy: 0.5131\n",
      "Epoch 4/25\n",
      "46/46 [==============================] - 7s 149ms/step - loss: 1.0686 - accuracy: 0.5577\n",
      "Epoch 5/25\n",
      "46/46 [==============================] - 7s 141ms/step - loss: 1.0257 - accuracy: 0.6019\n",
      "Epoch 6/25\n",
      "46/46 [==============================] - 6s 137ms/step - loss: 1.0143 - accuracy: 0.5971\n",
      "Epoch 7/25\n",
      "46/46 [==============================] - 7s 142ms/step - loss: 0.9541 - accuracy: 0.6255\n",
      "Epoch 8/25\n",
      "46/46 [==============================] - 7s 156ms/step - loss: 0.9249 - accuracy: 0.6441\n",
      "Epoch 9/25\n",
      "46/46 [==============================] - 7s 140ms/step - loss: 0.8728 - accuracy: 0.6637\n",
      "Epoch 10/25\n",
      "46/46 [==============================] - 6s 133ms/step - loss: 0.8595 - accuracy: 0.6572\n",
      "Epoch 11/25\n",
      "46/46 [==============================] - 6s 135ms/step - loss: 0.7897 - accuracy: 0.7041\n",
      "Epoch 12/25\n",
      "46/46 [==============================] - 6s 133ms/step - loss: 0.7405 - accuracy: 0.7221\n",
      "Epoch 13/25\n",
      "46/46 [==============================] - 6s 134ms/step - loss: 0.7043 - accuracy: 0.7338\n",
      "Epoch 14/25\n",
      "46/46 [==============================] - 6s 133ms/step - loss: 0.6652 - accuracy: 0.7428\n",
      "Epoch 15/25\n",
      "46/46 [==============================] - 6s 136ms/step - loss: 0.6347 - accuracy: 0.7751\n",
      "Epoch 16/25\n",
      "46/46 [==============================] - 6s 138ms/step - loss: 0.6645 - accuracy: 0.7398\n",
      "Epoch 17/25\n",
      "46/46 [==============================] - 7s 152ms/step - loss: 0.5623 - accuracy: 0.7860\n",
      "Epoch 18/25\n",
      "46/46 [==============================] - 6s 140ms/step - loss: 0.5460 - accuracy: 0.7972\n",
      "Epoch 19/25\n",
      "46/46 [==============================] - 6s 135ms/step - loss: 0.5094 - accuracy: 0.8200\n",
      "Epoch 20/25\n",
      "46/46 [==============================] - 6s 134ms/step - loss: 0.4967 - accuracy: 0.8241\n",
      "Epoch 21/25\n",
      "46/46 [==============================] - 6s 138ms/step - loss: 0.4971 - accuracy: 0.8117\n",
      "Epoch 22/25\n",
      "46/46 [==============================] - 6s 134ms/step - loss: 0.4818 - accuracy: 0.8248\n",
      "Epoch 23/25\n",
      "46/46 [==============================] - 6s 134ms/step - loss: 0.4482 - accuracy: 0.8359\n",
      "Epoch 24/25\n",
      "46/46 [==============================] - 6s 137ms/step - loss: 0.4042 - accuracy: 0.8566\n",
      "Epoch 25/25\n",
      "46/46 [==============================] - 6s 137ms/step - loss: 0.3750 - accuracy: 0.8723\n"
     ]
    },
    {
     "data": {
      "text/plain": [
       "<keras.callbacks.History at 0x20c9c151eb0>"
      ]
     },
     "execution_count": 44,
     "metadata": {},
     "output_type": "execute_result"
    }
   ],
   "source": [
    "model.fit_generator(x_train,steps_per_epoch=46,epochs=25,validation_data=x_test,validation_steps=20)"
   ]
  },
  {
   "cell_type": "code",
   "execution_count": 45,
   "id": "981121f4",
   "metadata": {},
   "outputs": [],
   "source": [
    "model.save('flowers.h5')"
   ]
  },
  {
   "cell_type": "code",
   "execution_count": 46,
   "id": "d5f67d97",
   "metadata": {},
   "outputs": [],
   "source": [
    "from tensorflow.keras.models import load_model\n",
    "from tensorflow.keras.preprocessing import image"
   ]
  },
  {
   "cell_type": "code",
   "execution_count": 47,
   "id": "768da609",
   "metadata": {},
   "outputs": [],
   "source": [
    "model=load_model('flowers.h5')"
   ]
  },
  {
   "cell_type": "code",
   "execution_count": 48,
   "id": "847b0767",
   "metadata": {},
   "outputs": [],
   "source": [
    "img=image.load_img('flowers/testset/rose/12240303_80d87f77a3_n.jpg',target_size=(64,64))"
   ]
  },
  {
   "cell_type": "code",
   "execution_count": 49,
   "id": "53736fc7",
   "metadata": {},
   "outputs": [],
   "source": [
    "import numpy as np\n",
    "x=image.img_to_array(img)"
   ]
  },
  {
   "cell_type": "code",
   "execution_count": 50,
   "id": "cc8553af",
   "metadata": {},
   "outputs": [],
   "source": [
    "x=np.expand_dims(x,axis=0)"
   ]
  },
  {
   "cell_type": "code",
   "execution_count": 51,
   "id": "955af6ff",
   "metadata": {},
   "outputs": [
    {
     "name": "stdout",
     "output_type": "stream",
     "text": [
      "1/1 [==============================] - 0s 69ms/step\n"
     ]
    }
   ],
   "source": [
    "pred=model.predict(x)"
   ]
  },
  {
   "cell_type": "code",
   "execution_count": 52,
   "id": "d3ad9611",
   "metadata": {},
   "outputs": [
    {
     "data": {
      "text/plain": [
       "array([[0., 0., 1., 0., 0.]], dtype=float32)"
      ]
     },
     "execution_count": 52,
     "metadata": {},
     "output_type": "execute_result"
    }
   ],
   "source": [
    "pred"
   ]
  },
  {
   "cell_type": "code",
   "execution_count": 53,
   "id": "0c913129",
   "metadata": {},
   "outputs": [
    {
     "data": {
      "text/plain": [
       "2"
      ]
     },
     "execution_count": 53,
     "metadata": {},
     "output_type": "execute_result"
    }
   ],
   "source": [
    "p=np.argmax(pred)\n",
    "p"
   ]
  },
  {
   "cell_type": "code",
   "execution_count": 54,
   "id": "a985e744",
   "metadata": {},
   "outputs": [],
   "source": [
    "index=['daisy','dandelion','rose','sunflower','tulip']"
   ]
  },
  {
   "cell_type": "code",
   "execution_count": 55,
   "id": "11a3479d",
   "metadata": {},
   "outputs": [
    {
     "data": {
      "text/plain": [
       "'rose'"
      ]
     },
     "execution_count": 55,
     "metadata": {},
     "output_type": "execute_result"
    }
   ],
   "source": [
    "flower=index[p]\n",
    "flower"
   ]
  },
  {
   "cell_type": "code",
   "execution_count": null,
   "id": "b1396d01",
   "metadata": {},
   "outputs": [],
   "source": []
  }
 ],
 "metadata": {
  "kernelspec": {
   "display_name": "Python 3 (ipykernel)",
   "language": "python",
   "name": "python3"
  },
  "language_info": {
   "codemirror_mode": {
    "name": "ipython",
    "version": 3
   },
   "file_extension": ".py",
   "mimetype": "text/x-python",
   "name": "python",
   "nbconvert_exporter": "python",
   "pygments_lexer": "ipython3",
   "version": "3.9.12"
  }
 },
 "nbformat": 4,
 "nbformat_minor": 5
}
